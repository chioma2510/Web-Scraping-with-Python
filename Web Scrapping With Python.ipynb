{
 "cells": [
  {
   "cell_type": "code",
   "execution_count": 1,
   "id": "35674f5f",
   "metadata": {
    "scrolled": true
   },
   "outputs": [
    {
     "name": "stdout",
     "output_type": "stream",
     "text": [
      "Requirement already satisfied: beautifulsoup4 in c:\\users\\chioma\\onedrive\\desktop\\anaconda\\lib\\site-packages (4.10.0)\n",
      "Requirement already satisfied: soupsieve>1.2 in c:\\users\\chioma\\onedrive\\desktop\\anaconda\\lib\\site-packages (from beautifulsoup4) (2.2.1)\n"
     ]
    }
   ],
   "source": [
    "import sys\n",
    "!{sys.executable} -m pip install beautifulsoup4                            "
   ]
  },
  {
   "cell_type": "markdown",
   "id": "bed9a887",
   "metadata": {},
   "source": [
    "The web scrapping will be done from [New York Best Sellers](https://www.nytimes.com/books/best-sellers) website"
   ]
  },
  {
   "cell_type": "code",
   "execution_count": 2,
   "id": "67785502",
   "metadata": {},
   "outputs": [],
   "source": [
    "from bs4 import BeautifulSoup"
   ]
  },
  {
   "cell_type": "code",
   "execution_count": 3,
   "id": "bf393160",
   "metadata": {},
   "outputs": [],
   "source": [
    "with open('Fictionbooks.html', 'r') as file:\n",
    "     page = file.read()   "
   ]
  },
  {
   "cell_type": "code",
   "execution_count": 4,
   "id": "08c9b973",
   "metadata": {},
   "outputs": [],
   "source": [
    "soup = BeautifulSoup(page, 'lxml')"
   ]
  },
  {
   "cell_type": "code",
   "execution_count": 5,
   "id": "20c01c71",
   "metadata": {},
   "outputs": [],
   "source": [
    "articles = soup.select('article') #<-- select individual tags with css selector. Selecting each article tags in the html"
   ]
  },
  {
   "cell_type": "code",
   "execution_count": 6,
   "id": "0d99d12f",
   "metadata": {},
   "outputs": [
    {
     "data": {
      "text/plain": [
       "<article class=\"css-1u6k25n\" itemprop=\"itemListElement\" itemscope=\"\" itemtype=\"https://schema.org/Book\"><div class=\"css-xe4cfy\"><a><p class=\"css-1o26r9v\">New this week</p><h3 class=\"css-5pe77f\" itemprop=\"name\">22 SECONDS</h3><p class=\"css-hjukut\" itemprop=\"author\">by James Patterson and Maxine Paetro</p><p class=\"css-heg334\" itemprop=\"publisher\">Little, Brown</p><p class=\"css-14lubdp\" itemprop=\"description\">The 22nd book in the Womenâ€™s Murder Club series. Lindsay Boxer returns as word gets around about a shipment of drugs and weapons.</p></a><div class=\"css-1cpfh5o\"><div class=\"css-fugswm\"><div class=\"css-79elbk\"><button aria-expanded=\"false\" aria-haspopup=\"true\" class=\"css-80zux2\" type=\"button\">Buy<span aria-hidden=\"true\"> â–¾</span></button><ul aria-label=\"Links to Book Retailers\" class=\"css-8dud8s\" hidden=\"\"><li><a class=\"css-114t425\" href=\"https://www.amazon.com/dp/0316499374?tag=NYTBSREV-20\" rel=\"noopener noreferrer\" target=\"_blank\">Amazon</a></li><li><a class=\"css-114t425\" href=\"https://goto.applebooks.apple/9780316499378?at=10lIEQ\" rel=\"noopener noreferrer\" target=\"_blank\">Apple Books</a></li><li><a class=\"css-114t425\" href=\"https://www.anrdoezrs.net/click-7990613-11819508?url=https%3A%2F%2Fwww.barnesandnoble.com%2Fw%2F%3Fean%3D9780316499378\" rel=\"noopener noreferrer\" target=\"_blank\">Barnes and Noble</a></li><li><a class=\"css-114t425\" href=\"https://du-gae-books-dot-nyt-du-prd.appspot.com/redirect?url1=https%3A%2F%2Fwww.anrdoezrs.net%2Fclick-7990613-35140%3Furl%3Dhttps%253A%252F%252Fwww.booksamillion.com%252Fp%252F22%252BSECONDS%252FJames%252BPatterson%252Band%252BMaxine%252BPaetro%252F9780316499378&amp;url2=https%3A%2F%2Fwww.anrdoezrs.net%2Fclick-7990613-35140%3Furl%3Dhttps%253A%252F%252Fwww.booksamillion.com%252Fsearch%253Fquery%253D22%252BSECONDS%252BJames%252BPatterson%252Band%252BMaxine%252BPaetro\" rel=\"noopener noreferrer\" target=\"_blank\">Books-A-Million</a></li><li><a class=\"css-114t425\" href=\"https://du-gae-books-dot-nyt-du-prd.appspot.com/redirect?url1=https%3A%2F%2Fbookshop.org%2Fa%2F3546%2F9780316499378&amp;url2=https%3A%2F%2Fbookshop.org%2Fbooks%3Faffiliate%3D3546%26keywords%3D22%2BSECONDS\" rel=\"noopener noreferrer\" target=\"_blank\">Bookshop</a></li><li><a class=\"css-114t425\" href=\"https://du-gae-books-dot-nyt-du-prd.appspot.com/redirect?url1=https%3A%2F%2Fwww.indiebound.org%2Fbook%2F9780316499378%3Faff%3DNYT&amp;url2=https%3A%2F%2Fwww.indiebound.org%2Fsearch%2Fbook%3Fkeys%3D22%2BSECONDS%2BJames%2BPatterson%2Band%2BMaxine%2BPaetro%26aff%3DNYT\" rel=\"noopener noreferrer\" target=\"_blank\">IndieBound</a></li></ul></div></div></div></div><footer class=\"css-1d36f7m\"><div class=\"css-szqx50\"><a><img alt=\"22 SECONDS by James Patterson and Maxine Paetro\" itemprop=\"image\" role=\"presentation\" src=\"https://storage.googleapis.com/du-prd/books/images/9780316499378.jpg\"/></a></div></footer><meta content=\"0316499374\" itemprop=\"isbn\"/><meta content=\"9780316499378\" itemprop=\"isbn\"/><meta content=\"1\" itemprop=\"position\"/><meta content=\"https://www.nytimes.com/books/best-sellers/2022/05/22/hardcover-fiction#QmVzdFNlbGxlckJvb2s6MDMxNjQ5OTM3NC05NzgwMzE2NDk5Mzc4\" itemprop=\"url\"/></article>"
      ]
     },
     "execution_count": 6,
     "metadata": {},
     "output_type": "execute_result"
    }
   ],
   "source": [
    "articles[0] # select first article tag from the available 15 article tags in the html"
   ]
  },
  {
   "cell_type": "code",
   "execution_count": 7,
   "id": "5ece41da",
   "metadata": {},
   "outputs": [
    {
     "data": {
      "text/plain": [
       "[<h3 class=\"css-5pe77f\" itemprop=\"name\">22 SECONDS</h3>,\n",
       " <h3 class=\"css-5pe77f\" itemprop=\"name\">BOOK OF NIGHT</h3>,\n",
       " <h3 class=\"css-5pe77f\" itemprop=\"name\">RUN, ROSE, RUN</h3>,\n",
       " <h3 class=\"css-5pe77f\" itemprop=\"name\">DREAM TOWN</h3>,\n",
       " <h3 class=\"css-5pe77f\" itemprop=\"name\">THE HOMEWRECKERS</h3>,\n",
       " <h3 class=\"css-5pe77f\" itemprop=\"name\">THE PARIS APARTMENT</h3>,\n",
       " <h3 class=\"css-5pe77f\" itemprop=\"name\">SEA OF TRANQUILITY</h3>,\n",
       " <h3 class=\"css-5pe77f\" itemprop=\"name\">THE MIDNIGHT LIBRARY</h3>,\n",
       " <h3 class=\"css-5pe77f\" itemprop=\"name\">THE INVESTIGATOR</h3>,\n",
       " <h3 class=\"css-5pe77f\" itemprop=\"name\">THE LAST THING HE TOLD ME</h3>,\n",
       " <h3 class=\"css-5pe77f\" itemprop=\"name\">LESSONS IN CHEMISTRY</h3>,\n",
       " <h3 class=\"css-5pe77f\" itemprop=\"name\">ONE ITALIAN SUMMER</h3>,\n",
       " <h3 class=\"css-5pe77f\" itemprop=\"name\">BEAUTIFUL</h3>,\n",
       " <h3 class=\"css-5pe77f\" itemprop=\"name\">CITY ON FIRE</h3>,\n",
       " <h3 class=\"css-5pe77f\" itemprop=\"name\">REMARKABLY BRIGHT CREATURES</h3>]"
      ]
     },
     "execution_count": 7,
     "metadata": {},
     "output_type": "execute_result"
    }
   ],
   "source": [
    "soup.select('article h3') # select each h3 tags inside article tag  (this h3 tag contains the book titles in the html)"
   ]
  },
  {
   "cell_type": "code",
   "execution_count": 8,
   "id": "904d8741",
   "metadata": {
    "scrolled": true
   },
   "outputs": [
    {
     "data": {
      "text/plain": [
       "[<h3 class=\"css-5pe77f\" itemprop=\"name\">22 SECONDS</h3>,\n",
       " <h3 class=\"css-5pe77f\" itemprop=\"name\">BOOK OF NIGHT</h3>,\n",
       " <h3 class=\"css-5pe77f\" itemprop=\"name\">RUN, ROSE, RUN</h3>,\n",
       " <h3 class=\"css-5pe77f\" itemprop=\"name\">DREAM TOWN</h3>,\n",
       " <h3 class=\"css-5pe77f\" itemprop=\"name\">THE HOMEWRECKERS</h3>,\n",
       " <h3 class=\"css-5pe77f\" itemprop=\"name\">THE PARIS APARTMENT</h3>,\n",
       " <h3 class=\"css-5pe77f\" itemprop=\"name\">SEA OF TRANQUILITY</h3>,\n",
       " <h3 class=\"css-5pe77f\" itemprop=\"name\">THE MIDNIGHT LIBRARY</h3>,\n",
       " <h3 class=\"css-5pe77f\" itemprop=\"name\">THE INVESTIGATOR</h3>,\n",
       " <h3 class=\"css-5pe77f\" itemprop=\"name\">THE LAST THING HE TOLD ME</h3>,\n",
       " <h3 class=\"css-5pe77f\" itemprop=\"name\">LESSONS IN CHEMISTRY</h3>,\n",
       " <h3 class=\"css-5pe77f\" itemprop=\"name\">ONE ITALIAN SUMMER</h3>,\n",
       " <h3 class=\"css-5pe77f\" itemprop=\"name\">BEAUTIFUL</h3>,\n",
       " <h3 class=\"css-5pe77f\" itemprop=\"name\">CITY ON FIRE</h3>,\n",
       " <h3 class=\"css-5pe77f\" itemprop=\"name\">REMARKABLY BRIGHT CREATURES</h3>]"
      ]
     },
     "execution_count": 8,
     "metadata": {},
     "output_type": "execute_result"
    }
   ],
   "source": [
    "soup.select('article h3[itemprop=\"name\"]')"
   ]
  },
  {
   "cell_type": "code",
   "execution_count": 9,
   "id": "5eb53361",
   "metadata": {},
   "outputs": [
    {
     "data": {
      "text/plain": [
       "bs4.element.ResultSet"
      ]
     },
     "execution_count": 9,
     "metadata": {},
     "output_type": "execute_result"
    }
   ],
   "source": [
    "result = soup.select('article h3[itemprop=\"name\"]')\n",
    "type(result)"
   ]
  },
  {
   "cell_type": "code",
   "execution_count": 10,
   "id": "010fae60",
   "metadata": {},
   "outputs": [
    {
     "data": {
      "text/plain": [
       "'22 SECONDS'"
      ]
     },
     "execution_count": 10,
     "metadata": {},
     "output_type": "execute_result"
    }
   ],
   "source": [
    "result[0].text # get the book title of the first book in the list"
   ]
  },
  {
   "cell_type": "markdown",
   "id": "846017dc",
   "metadata": {},
   "source": [
    "**the .text removes the html and gives us only texts.**"
   ]
  },
  {
   "cell_type": "code",
   "execution_count": 11,
   "id": "5e7aeaba",
   "metadata": {},
   "outputs": [
    {
     "data": {
      "text/plain": [
       "['22 SECONDS',\n",
       " 'BOOK OF NIGHT',\n",
       " 'RUN, ROSE, RUN',\n",
       " 'DREAM TOWN',\n",
       " 'THE HOMEWRECKERS',\n",
       " 'THE PARIS APARTMENT',\n",
       " 'SEA OF TRANQUILITY',\n",
       " 'THE MIDNIGHT LIBRARY',\n",
       " 'THE INVESTIGATOR',\n",
       " 'THE LAST THING HE TOLD ME',\n",
       " 'LESSONS IN CHEMISTRY',\n",
       " 'ONE ITALIAN SUMMER',\n",
       " 'BEAUTIFUL',\n",
       " 'CITY ON FIRE',\n",
       " 'REMARKABLY BRIGHT CREATURES']"
      ]
     },
     "execution_count": 11,
     "metadata": {},
     "output_type": "execute_result"
    }
   ],
   "source": [
    "titles = [chioma.text for chioma in result]  \n",
    "titles"
   ]
  },
  {
   "cell_type": "code",
   "execution_count": 12,
   "id": "5163893d",
   "metadata": {},
   "outputs": [],
   "source": [
    "# using list comprehension"
   ]
  },
  {
   "cell_type": "code",
   "execution_count": 13,
   "id": "49f7138c",
   "metadata": {},
   "outputs": [
    {
     "data": {
      "text/plain": [
       "[<p class=\"css-hjukut\" itemprop=\"author\">by James Patterson and Maxine Paetro</p>,\n",
       " <p class=\"css-hjukut\" itemprop=\"author\">by Holly Black</p>,\n",
       " <p class=\"css-hjukut\" itemprop=\"author\">by Dolly Parton and James Patterson</p>,\n",
       " <p class=\"css-hjukut\" itemprop=\"author\">by David Baldacci</p>,\n",
       " <p class=\"css-hjukut\" itemprop=\"author\">by Mary Kay Andrews</p>,\n",
       " <p class=\"css-hjukut\" itemprop=\"author\">by Lucy Foley</p>,\n",
       " <p class=\"css-hjukut\" itemprop=\"author\">by Emily St. John Mandel</p>,\n",
       " <p class=\"css-hjukut\" itemprop=\"author\">by Matt Haig</p>,\n",
       " <p class=\"css-hjukut\" itemprop=\"author\">by John Sandford</p>,\n",
       " <p class=\"css-hjukut\" itemprop=\"author\">by Laura Dave</p>,\n",
       " <p class=\"css-hjukut\" itemprop=\"author\">by Bonnie Garmus</p>,\n",
       " <p class=\"css-hjukut\" itemprop=\"author\">by Rebecca Serle</p>,\n",
       " <p class=\"css-hjukut\" itemprop=\"author\">by Danielle Steel</p>,\n",
       " <p class=\"css-hjukut\" itemprop=\"author\">by Don Winslow</p>,\n",
       " <p class=\"css-hjukut\" itemprop=\"author\">by Shelby Van Pelt</p>]"
      ]
     },
     "execution_count": 13,
     "metadata": {},
     "output_type": "execute_result"
    }
   ],
   "source": [
    "soup.select('article p[itemprop=\"author\"]')"
   ]
  },
  {
   "cell_type": "code",
   "execution_count": 14,
   "id": "c4adef73",
   "metadata": {},
   "outputs": [],
   "source": [
    "result = soup.select('article p[itemprop=\"author\"]')"
   ]
  },
  {
   "cell_type": "code",
   "execution_count": 15,
   "id": "5abbdec8",
   "metadata": {},
   "outputs": [
    {
     "data": {
      "text/plain": [
       "['by James Patterson and Maxine Paetro',\n",
       " 'by Holly Black',\n",
       " 'by Dolly Parton and James Patterson',\n",
       " 'by David Baldacci',\n",
       " 'by Mary Kay Andrews',\n",
       " 'by Lucy Foley',\n",
       " 'by Emily St. John Mandel',\n",
       " 'by Matt Haig',\n",
       " 'by John Sandford',\n",
       " 'by Laura Dave',\n",
       " 'by Bonnie Garmus',\n",
       " 'by Rebecca Serle',\n",
       " 'by Danielle Steel',\n",
       " 'by Don Winslow',\n",
       " 'by Shelby Van Pelt']"
      ]
     },
     "execution_count": 15,
     "metadata": {},
     "output_type": "execute_result"
    }
   ],
   "source": [
    "authors = [chioma.text for chioma in result]\n",
    "authors"
   ]
  },
  {
   "cell_type": "code",
   "execution_count": 16,
   "id": "d054640b",
   "metadata": {},
   "outputs": [
    {
     "data": {
      "text/plain": [
       "[' James Patterson and Maxine Paetro',\n",
       " ' Holly Black',\n",
       " ' Dolly Parton and James Patterson',\n",
       " ' David Baldacci',\n",
       " ' Mary Kay Andrews',\n",
       " ' Lucy Fole',\n",
       " ' Emily St. John Mandel',\n",
       " ' Matt Haig',\n",
       " ' John Sandford',\n",
       " ' Laura Dave',\n",
       " ' Bonnie Garmus',\n",
       " ' Rebecca Serle',\n",
       " ' Danielle Steel',\n",
       " ' Don Winslow',\n",
       " ' Shelby Van Pelt']"
      ]
     },
     "execution_count": 16,
     "metadata": {},
     "output_type": "execute_result"
    }
   ],
   "source": [
    "result2 = soup.select('article p[itemprop=\"author\"]')\n",
    "authors = [chioma.text.strip('by') for chioma in result]\n",
    "authors"
   ]
  },
  {
   "cell_type": "code",
   "execution_count": 17,
   "id": "e77ada4c",
   "metadata": {},
   "outputs": [
    {
     "data": {
      "text/plain": [
       "[<img alt=\"22 SECONDS by James Patterson and Maxine Paetro\" itemprop=\"image\" role=\"presentation\" src=\"https://storage.googleapis.com/du-prd/books/images/9780316499378.jpg\"/>,\n",
       " <img alt=\"BOOK OF NIGHT by Holly Black\" itemprop=\"image\" role=\"presentation\" src=\"https://storage.googleapis.com/du-prd/books/images/9781250812193.jpg\"/>,\n",
       " <img alt=\"RUN, ROSE, RUN by Dolly Parton and James Patterson\" itemprop=\"image\" role=\"presentation\" src=\"https://storage.googleapis.com/du-prd/books/images/9780759554344.jpg\"/>,\n",
       " <img alt=\"DREAM TOWN by David Baldacci\" itemprop=\"image\" role=\"presentation\" src=\"https://storage.googleapis.com/du-prd/books/images/9781538719770.jpg\"/>,\n",
       " <img alt=\"THE HOMEWRECKERS by Mary Kay Andrews\" itemprop=\"image\" role=\"presentation\" src=\"https://storage.googleapis.com/du-prd/books/images/9781250278364.jpg\"/>,\n",
       " <img alt=\"THE PARIS APARTMENT by Lucy Foley\" itemprop=\"image\" role=\"presentation\" src=\"https://storage.googleapis.com/du-prd/books/images/9780063003057.jpg\"/>,\n",
       " <img alt=\"SEA OF TRANQUILITY by Emily St. John Mandel\" itemprop=\"image\" role=\"presentation\" src=\"https://storage.googleapis.com/du-prd/books/images/9780593321447.jpg\"/>,\n",
       " <img alt=\"THE MIDNIGHT LIBRARY by Matt Haig\" itemprop=\"image\" role=\"presentation\" src=\"https://storage.googleapis.com/du-prd/books/images/9780525559474.jpg\"/>,\n",
       " <img alt=\"THE INVESTIGATOR by John Sandford\" itemprop=\"image\" role=\"presentation\" src=\"https://storage.googleapis.com/du-prd/books/images/9780593328682.jpg\"/>,\n",
       " <img alt=\"THE LAST THING HE TOLD ME by Laura Dave\" itemprop=\"image\" role=\"presentation\" src=\"https://storage.googleapis.com/du-prd/books/images/9781501171345.jpg\"/>,\n",
       " <img alt=\"LESSONS IN CHEMISTRY by Bonnie Garmus\" itemprop=\"image\" role=\"presentation\" src=\"https://storage.googleapis.com/du-prd/books/images/9780385547345.jpg\"/>,\n",
       " <img alt=\"ONE ITALIAN SUMMER by Rebecca Serle\" itemprop=\"image\" role=\"presentation\" src=\"https://storage.googleapis.com/du-prd/books/images/9781982166793.jpg\"/>,\n",
       " <img alt=\"BEAUTIFUL by Danielle Steel\" itemprop=\"image\" role=\"presentation\" src=\"https://storage.googleapis.com/du-prd/books/images/9781984821645.jpg\"/>,\n",
       " <img alt=\"CITY ON FIRE by Don Winslow\" itemprop=\"image\" role=\"presentation\" src=\"https://storage.googleapis.com/du-prd/books/images/9780062851192.jpg\"/>,\n",
       " <img alt=\"REMARKABLY BRIGHT CREATURES by Shelby Van Pelt\" itemprop=\"image\" role=\"presentation\" src=\"https://storage.googleapis.com/du-prd/books/images/9780063204157.jpg\"/>]"
      ]
     },
     "execution_count": 17,
     "metadata": {},
     "output_type": "execute_result"
    }
   ],
   "source": [
    "soup.select('article img[itemprop=\"image\"]')"
   ]
  },
  {
   "cell_type": "code",
   "execution_count": 18,
   "id": "87e2dce8",
   "metadata": {},
   "outputs": [
    {
     "data": {
      "text/plain": [
       "<img alt=\"BOOK OF NIGHT by Holly Black\" itemprop=\"image\" role=\"presentation\" src=\"https://storage.googleapis.com/du-prd/books/images/9781250812193.jpg\"/>"
      ]
     },
     "execution_count": 18,
     "metadata": {},
     "output_type": "execute_result"
    }
   ],
   "source": [
    "result = soup.select('article img[itemprop=\"image\"]')\n",
    "result[1]"
   ]
  },
  {
   "cell_type": "code",
   "execution_count": 19,
   "id": "22364dee",
   "metadata": {},
   "outputs": [
    {
     "data": {
      "text/plain": [
       "['https://storage.googleapis.com/du-prd/books/images/9780316499378.jpg',\n",
       " 'https://storage.googleapis.com/du-prd/books/images/9781250812193.jpg',\n",
       " 'https://storage.googleapis.com/du-prd/books/images/9780759554344.jpg',\n",
       " 'https://storage.googleapis.com/du-prd/books/images/9781538719770.jpg',\n",
       " 'https://storage.googleapis.com/du-prd/books/images/9781250278364.jpg',\n",
       " 'https://storage.googleapis.com/du-prd/books/images/9780063003057.jpg',\n",
       " 'https://storage.googleapis.com/du-prd/books/images/9780593321447.jpg',\n",
       " 'https://storage.googleapis.com/du-prd/books/images/9780525559474.jpg',\n",
       " 'https://storage.googleapis.com/du-prd/books/images/9780593328682.jpg',\n",
       " 'https://storage.googleapis.com/du-prd/books/images/9781501171345.jpg',\n",
       " 'https://storage.googleapis.com/du-prd/books/images/9780385547345.jpg',\n",
       " 'https://storage.googleapis.com/du-prd/books/images/9781982166793.jpg',\n",
       " 'https://storage.googleapis.com/du-prd/books/images/9781984821645.jpg',\n",
       " 'https://storage.googleapis.com/du-prd/books/images/9780062851192.jpg',\n",
       " 'https://storage.googleapis.com/du-prd/books/images/9780063204157.jpg']"
      ]
     },
     "execution_count": 19,
     "metadata": {},
     "output_type": "execute_result"
    }
   ],
   "source": [
    "result = soup.select('article img[itemprop=\"image\"]')\n",
    "images = [chioma['src'] for chioma in result]\n",
    "images"
   ]
  },
  {
   "cell_type": "markdown",
   "id": "83efbe57",
   "metadata": {},
   "source": [
    "**Combining the 3 list together**"
   ]
  },
  {
   "cell_type": "code",
   "execution_count": 20,
   "id": "0fe71ac2",
   "metadata": {},
   "outputs": [],
   "source": [
    "book_info = list(zip(titles, authors, images)) ## Combining th 3 list together (Book Titles, Authors, Images)"
   ]
  },
  {
   "cell_type": "code",
   "execution_count": 21,
   "id": "9a95a3f3",
   "metadata": {},
   "outputs": [
    {
     "data": {
      "text/plain": [
       "[('22 SECONDS',\n",
       "  ' James Patterson and Maxine Paetro',\n",
       "  'https://storage.googleapis.com/du-prd/books/images/9780316499378.jpg'),\n",
       " ('BOOK OF NIGHT',\n",
       "  ' Holly Black',\n",
       "  'https://storage.googleapis.com/du-prd/books/images/9781250812193.jpg'),\n",
       " ('RUN, ROSE, RUN',\n",
       "  ' Dolly Parton and James Patterson',\n",
       "  'https://storage.googleapis.com/du-prd/books/images/9780759554344.jpg'),\n",
       " ('DREAM TOWN',\n",
       "  ' David Baldacci',\n",
       "  'https://storage.googleapis.com/du-prd/books/images/9781538719770.jpg'),\n",
       " ('THE HOMEWRECKERS',\n",
       "  ' Mary Kay Andrews',\n",
       "  'https://storage.googleapis.com/du-prd/books/images/9781250278364.jpg'),\n",
       " ('THE PARIS APARTMENT',\n",
       "  ' Lucy Fole',\n",
       "  'https://storage.googleapis.com/du-prd/books/images/9780063003057.jpg'),\n",
       " ('SEA OF TRANQUILITY',\n",
       "  ' Emily St. John Mandel',\n",
       "  'https://storage.googleapis.com/du-prd/books/images/9780593321447.jpg'),\n",
       " ('THE MIDNIGHT LIBRARY',\n",
       "  ' Matt Haig',\n",
       "  'https://storage.googleapis.com/du-prd/books/images/9780525559474.jpg'),\n",
       " ('THE INVESTIGATOR',\n",
       "  ' John Sandford',\n",
       "  'https://storage.googleapis.com/du-prd/books/images/9780593328682.jpg'),\n",
       " ('THE LAST THING HE TOLD ME',\n",
       "  ' Laura Dave',\n",
       "  'https://storage.googleapis.com/du-prd/books/images/9781501171345.jpg'),\n",
       " ('LESSONS IN CHEMISTRY',\n",
       "  ' Bonnie Garmus',\n",
       "  'https://storage.googleapis.com/du-prd/books/images/9780385547345.jpg'),\n",
       " ('ONE ITALIAN SUMMER',\n",
       "  ' Rebecca Serle',\n",
       "  'https://storage.googleapis.com/du-prd/books/images/9781982166793.jpg'),\n",
       " ('BEAUTIFUL',\n",
       "  ' Danielle Steel',\n",
       "  'https://storage.googleapis.com/du-prd/books/images/9781984821645.jpg'),\n",
       " ('CITY ON FIRE',\n",
       "  ' Don Winslow',\n",
       "  'https://storage.googleapis.com/du-prd/books/images/9780062851192.jpg'),\n",
       " ('REMARKABLY BRIGHT CREATURES',\n",
       "  ' Shelby Van Pelt',\n",
       "  'https://storage.googleapis.com/du-prd/books/images/9780063204157.jpg')]"
      ]
     },
     "execution_count": 21,
     "metadata": {},
     "output_type": "execute_result"
    }
   ],
   "source": [
    "list(zip(titles, authors, images))"
   ]
  },
  {
   "cell_type": "markdown",
   "id": "51e4a796",
   "metadata": {},
   "source": [
    "# **Using Plawright To Scrape A Single Web Page**"
   ]
  },
  {
   "cell_type": "markdown",
   "id": "22251191",
   "metadata": {},
   "source": [
    "This part was executed in VSCode"
   ]
  },
  {
   "cell_type": "code",
   "execution_count": 22,
   "id": "64054b71",
   "metadata": {
    "scrolled": true
   },
   "outputs": [
    {
     "name": "stdout",
     "output_type": "stream",
     "text": [
      "Requirement already satisfied: playwright in c:\\users\\chioma\\onedrive\\desktop\\anaconda\\lib\\site-packages (1.22.0)\n",
      "Requirement already satisfied: pyee==8.1.0 in c:\\users\\chioma\\onedrive\\desktop\\anaconda\\lib\\site-packages (from playwright) (8.1.0)\n",
      "Requirement already satisfied: websockets==10.1 in c:\\users\\chioma\\onedrive\\desktop\\anaconda\\lib\\site-packages (from playwright) (10.1)\n",
      "Requirement already satisfied: greenlet==1.1.2 in c:\\users\\chioma\\onedrive\\desktop\\anaconda\\lib\\site-packages (from playwright) (1.1.2)\n"
     ]
    }
   ],
   "source": [
    "import sys\n",
    "!{sys.executable} -m pip install playwright"
   ]
  },
  {
   "cell_type": "markdown",
   "id": "a1d553ce",
   "metadata": {},
   "source": [
    "# **Loading Data From Web Scrapping Using Pandas**"
   ]
  },
  {
   "cell_type": "markdown",
   "id": "4c94875f",
   "metadata": {},
   "source": [
    "**writing a function to do the same thing we've done earlier**"
   ]
  },
  {
   "cell_type": "code",
   "execution_count": 23,
   "id": "a5628ec0",
   "metadata": {},
   "outputs": [],
   "source": [
    "def get_book_info(page):\n",
    "    soup = BeautifulSoup(page, 'lxml')\n",
    "    \n",
    "    result = soup.select('article h3[itemprop=\"name\"]')\n",
    "    titles = [r.text for r in result] # the book titles in the list\n",
    "    \n",
    "    result = soup.select('article p[itemprop=\"author\"]')\n",
    "    authors = [r.text.strip('by') for r in result]\n",
    "    \n",
    "    result = soup.select('article img[itemprop=\"image\"]')\n",
    "    images = [r['src'] for r in result]\n",
    "    \n",
    "    return list(zip(titles, authors, images))"
   ]
  },
  {
   "cell_type": "code",
   "execution_count": 24,
   "id": "7ca7db18",
   "metadata": {},
   "outputs": [
    {
     "data": {
      "text/plain": [
       "[('22 SECONDS',\n",
       "  ' James Patterson and Maxine Paetro',\n",
       "  'https://storage.googleapis.com/du-prd/books/images/9780316499378.jpg'),\n",
       " ('BOOK OF NIGHT',\n",
       "  ' Holly Black',\n",
       "  'https://storage.googleapis.com/du-prd/books/images/9781250812193.jpg'),\n",
       " ('RUN, ROSE, RUN',\n",
       "  ' Dolly Parton and James Patterson',\n",
       "  'https://storage.googleapis.com/du-prd/books/images/9780759554344.jpg'),\n",
       " ('DREAM TOWN',\n",
       "  ' David Baldacci',\n",
       "  'https://storage.googleapis.com/du-prd/books/images/9781538719770.jpg'),\n",
       " ('THE HOMEWRECKERS',\n",
       "  ' Mary Kay Andrews',\n",
       "  'https://storage.googleapis.com/du-prd/books/images/9781250278364.jpg'),\n",
       " ('THE PARIS APARTMENT',\n",
       "  ' Lucy Fole',\n",
       "  'https://storage.googleapis.com/du-prd/books/images/9780063003057.jpg'),\n",
       " ('SEA OF TRANQUILITY',\n",
       "  ' Emily St. John Mandel',\n",
       "  'https://storage.googleapis.com/du-prd/books/images/9780593321447.jpg'),\n",
       " ('THE MIDNIGHT LIBRARY',\n",
       "  ' Matt Haig',\n",
       "  'https://storage.googleapis.com/du-prd/books/images/9780525559474.jpg'),\n",
       " ('THE INVESTIGATOR',\n",
       "  ' John Sandford',\n",
       "  'https://storage.googleapis.com/du-prd/books/images/9780593328682.jpg'),\n",
       " ('THE LAST THING HE TOLD ME',\n",
       "  ' Laura Dave',\n",
       "  'https://storage.googleapis.com/du-prd/books/images/9781501171345.jpg'),\n",
       " ('LESSONS IN CHEMISTRY',\n",
       "  ' Bonnie Garmus',\n",
       "  'https://storage.googleapis.com/du-prd/books/images/9780385547345.jpg'),\n",
       " ('ONE ITALIAN SUMMER',\n",
       "  ' Rebecca Serle',\n",
       "  'https://storage.googleapis.com/du-prd/books/images/9781982166793.jpg'),\n",
       " ('BEAUTIFUL',\n",
       "  ' Danielle Steel',\n",
       "  'https://storage.googleapis.com/du-prd/books/images/9781984821645.jpg'),\n",
       " ('CITY ON FIRE',\n",
       "  ' Don Winslow',\n",
       "  'https://storage.googleapis.com/du-prd/books/images/9780062851192.jpg'),\n",
       " ('REMARKABLY BRIGHT CREATURES',\n",
       "  ' Shelby Van Pelt',\n",
       "  'https://storage.googleapis.com/du-prd/books/images/9780063204157.jpg')]"
      ]
     },
     "execution_count": 24,
     "metadata": {},
     "output_type": "execute_result"
    }
   ],
   "source": [
    "get_book_info(page) # Getting the book info from fictionbook.html"
   ]
  },
  {
   "cell_type": "code",
   "execution_count": 26,
   "id": "4e6c58ae",
   "metadata": {},
   "outputs": [
    {
     "ename": "FileNotFoundError",
     "evalue": "[Errno 2] No such file or directory: 'all_articles.html'",
     "output_type": "error",
     "traceback": [
      "\u001b[1;31m---------------------------------------------------------------------------\u001b[0m",
      "\u001b[1;31mFileNotFoundError\u001b[0m                         Traceback (most recent call last)",
      "\u001b[1;32m~\\AppData\\Local\\Temp/ipykernel_11736/2632701348.py\u001b[0m in \u001b[0;36m<module>\u001b[1;34m\u001b[0m\n\u001b[1;32m----> 1\u001b[1;33m \u001b[1;32mwith\u001b[0m \u001b[0mopen\u001b[0m\u001b[1;33m(\u001b[0m\u001b[1;34m'all_articles.html'\u001b[0m\u001b[1;33m,\u001b[0m \u001b[1;34m'rb'\u001b[0m\u001b[1;33m)\u001b[0m \u001b[1;32mas\u001b[0m \u001b[0mf\u001b[0m\u001b[1;33m:\u001b[0m \u001b[1;31m# reading in all_articles html scrapped from 3 pages\u001b[0m\u001b[1;33m\u001b[0m\u001b[1;33m\u001b[0m\u001b[0m\n\u001b[0m\u001b[0;32m      2\u001b[0m     \u001b[0mall_three_pages\u001b[0m \u001b[1;33m=\u001b[0m \u001b[0mf\u001b[0m\u001b[1;33m.\u001b[0m\u001b[0mread\u001b[0m\u001b[1;33m(\u001b[0m\u001b[1;33m)\u001b[0m\u001b[1;33m\u001b[0m\u001b[1;33m\u001b[0m\u001b[0m\n\u001b[0;32m      3\u001b[0m \u001b[1;33m\u001b[0m\u001b[0m\n\u001b[0;32m      4\u001b[0m \u001b[0mget_book_info\u001b[0m\u001b[1;33m(\u001b[0m\u001b[0mall_three_pages\u001b[0m\u001b[1;33m)\u001b[0m\u001b[1;33m\u001b[0m\u001b[1;33m\u001b[0m\u001b[0m\n",
      "\u001b[1;31mFileNotFoundError\u001b[0m: [Errno 2] No such file or directory: 'all_articles.html'"
     ]
    }
   ],
   "source": [
    "with open('all_articles.html', 'rb') as f: # reading in all_articles html scrapped from 3 pages\n",
    "    all_three_pages = f.read()\n",
    "    \n",
    "get_book_info(all_three_pages)"
   ]
  },
  {
   "cell_type": "markdown",
   "id": "d393acb3",
   "metadata": {},
   "source": [
    "**Display cover page for each book**"
   ]
  },
  {
   "cell_type": "code",
   "execution_count": null,
   "id": "beace7c1",
   "metadata": {},
   "outputs": [],
   "source": [
    "from IPython.display import Image, display"
   ]
  },
  {
   "cell_type": "code",
   "execution_count": null,
   "id": "f67febe5",
   "metadata": {},
   "outputs": [],
   "source": [
    "book_info = get_book_info(page)"
   ]
  },
  {
   "cell_type": "code",
   "execution_count": null,
   "id": "bfc1301a",
   "metadata": {},
   "outputs": [],
   "source": [
    "for book in book_info:\n",
    "    print(f'Book Title: {book[0]}')\n",
    "    print(f'Book Author: {book[1]}')\n",
    "    display(Image(url = book[2], width=100))\n",
    "    print(\"\")"
   ]
  },
  {
   "cell_type": "markdown",
   "id": "e9ef6ad5",
   "metadata": {},
   "source": [
    "# **Loading the Scrapped Data in Pandas**"
   ]
  },
  {
   "cell_type": "code",
   "execution_count": null,
   "id": "08b7ccc1",
   "metadata": {},
   "outputs": [],
   "source": [
    "import pandas as pd"
   ]
  },
  {
   "cell_type": "code",
   "execution_count": null,
   "id": "77740415",
   "metadata": {},
   "outputs": [],
   "source": [
    "book_df = pd.DataFrame(book_info, columns=['titles', 'author', 'cover_url'])\n",
    "book_df"
   ]
  },
  {
   "cell_type": "code",
   "execution_count": null,
   "id": "79e74c46",
   "metadata": {},
   "outputs": [],
   "source": []
  }
 ],
 "metadata": {
  "kernelspec": {
   "display_name": "Python 3 (ipykernel)",
   "language": "python",
   "name": "python3"
  },
  "language_info": {
   "codemirror_mode": {
    "name": "ipython",
    "version": 3
   },
   "file_extension": ".py",
   "mimetype": "text/x-python",
   "name": "python",
   "nbconvert_exporter": "python",
   "pygments_lexer": "ipython3",
   "version": "3.9.7"
  },
  "vscode": {
   "interpreter": {
    "hash": "2c72a6bceb4855863a3f6c80d16b73e8acf4bac91a6865dc6610f8acd720fcc7"
   }
  }
 },
 "nbformat": 4,
 "nbformat_minor": 5
}
